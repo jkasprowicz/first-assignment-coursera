{
 "cells": [
  {
   "cell_type": "markdown",
   "metadata": {},
   "source": [
    "<center>\n",
    "    <img src=\"https://cf-courses-data.s3.us.cloud-object-storage.appdomain.cloud/IBMDeveloperSkillsNetwork-DS0105EN-SkillsNetwork/labs/Module2/images/SN_web_lightmode.png\" width=\"300\" alt=\"cognitiveclass.ai logo\">\n",
    "</center>\n"
   ]
  },
  {
   "cell_type": "markdown",
   "metadata": {},
   "source": [
    "# First assigment"
   ]
  },
  {
   "cell_type": "markdown",
   "metadata": {},
   "source": [
    "## this is my first assigment on the coursera ibm data science professional certification"
   ]
  },
  {
   "cell_type": "markdown",
   "metadata": {},
   "source": [
    "## Data Science Languages  \n",
    "The primary languages used in data science include:  \n",
    "- Python  \n",
    "- R  \n",
    "- SQL  \n",
    "- Julia  \n",
    "- Java  \n",
    "- Scala  \n",
    "- MATLAB"
   ]
  },
  {
   "cell_type": "markdown",
   "metadata": {},
   "source": [
    "## Data Science Libraries  \n",
    "Some popular libraries for data science are:  \n",
    "- **Python:** Pandas, NumPy, Matplotlib, Scikit-learn, TensorFlow  \n",
    "- **R:** ggplot2, dplyr, tidyr, caret  \n",
    "- **Java:** Weka, Deeplearning4j  "
   ]
  },
  {
   "cell_type": "markdown",
   "metadata": {},
   "source": [
    "## Data Science Tools  \n",
    "| Tool            | Description                                      |  \n",
    "|------------------|--------------------------------------------------|  \n",
    "| Jupyter Notebook | Interactive environment for coding and markdown |  \n",
    "| RStudio          | IDE for R programming                           |  \n",
    "| Apache Spark     | Big data processing framework                   |  \n",
    "| Tableau          | Data visualization platform                     |  \n",
    "| Power BI         | Business intelligence and visualization tool    |  \n"
   ]
  },
  {
   "cell_type": "markdown",
   "metadata": {},
   "source": [
    "## Arithmetic Expression Examples  \n",
    "Below are examples of arithmetic operations, including addition, multiplication, and division."
   ]
  },
  {
   "cell_type": "markdown",
   "metadata": {},
   "source": [
    "# Example of multiplication and addition\n",
    "result = (5 * 3) + 2\n",
    "result"
   ]
  },
  {
   "cell_type": "code",
   "execution_count": 9,
   "metadata": {},
   "outputs": [
    {
     "data": {
      "text/plain": [
       "2.0"
      ]
     },
     "execution_count": 9,
     "metadata": {},
     "output_type": "execute_result"
    }
   ],
   "source": [
    "# Convert minutes to hours\n",
    "minutes = 120\n",
    "hours = minutes / 60\n",
    "hours"
   ]
  },
  {
   "cell_type": "markdown",
   "metadata": {},
   "source": [
    "## Objectives  \n",
    "- List popular languages for data science.  \n",
    "- Identify key libraries used in data science.  \n",
    "- Demonstrate arithmetic operations.  \n",
    "- Convert time units using Python code.  \n",
    "- Showcase markdown and table creation in Jupyter Notebook.  "
   ]
  },
  {
   "cell_type": "markdown",
   "metadata": {},
   "source": [
    "## Author  \n",
    "John Doe  "
   ]
  },
  {
   "cell_type": "code",
   "execution_count": null,
   "metadata": {},
   "outputs": [],
   "source": []
  }
 ],
 "metadata": {
  "kernelspec": {
   "display_name": "Python 3 (ipykernel)",
   "language": "python",
   "name": "python3"
  },
  "language_info": {
   "codemirror_mode": {
    "name": "ipython",
    "version": 3
   },
   "file_extension": ".py",
   "mimetype": "text/x-python",
   "name": "python",
   "nbconvert_exporter": "python",
   "pygments_lexer": "ipython3",
   "version": "3.11.9"
  }
 },
 "nbformat": 4,
 "nbformat_minor": 4
}
